{
 "cells": [
  {
   "cell_type": "markdown",
   "metadata": {},
   "source": [
    "<div class=\"clearfix\" style=\"padding: 10px; padding-left: 0px\">\n",
    "<img src=\"https://raw.githubusercontent.com/jupyter/nature-demo/master/images/jupyter-logo.png\" width=\"150px\" style=\"display: inline-block; margin-top: 5px;\">\n",
    "<a href=\"http://bit.ly/tmpnbdevrax\"><img src=\"https://cloud.githubusercontent.com/assets/836375/4916141/2732892e-64d6-11e4-980f-11afcf03ca31.png\" width=\"150px\" class=\"pull-right\" style=\"display: inline-block; margin: 0px;\"></a>\n",
    "</div>\n",
    "\n",
    "## Welcome to the Temporary Notebook (tmpnb) service!\n",
    "\n",
    "This Notebook Server was **launched just for you**. It's a temporary way for you to try out a recent development version of the IPython/Jupyter notebook.\n",
    "\n",
    "<div class=\"alert alert-warning\" role=\"alert\" style=\"margin: 10px\">\n",
    "<p>**WARNING**</p>\n",
    "\n",
    "<p>Don't rely on this server for anything you want to last - your server will be *deleted after 10 minutes of inactivity*.</p>\n",
    "</div>\n",
    "\n",
    "Your server is hosted thanks to [Rackspace](http://bit.ly/tmpnbdevrax), on their on-demand bare metal servers, [OnMetal](http://bit.ly/onmetal).\n"
   ]
  },
  {
   "cell_type": "markdown",
   "metadata": {},
   "source": [
    "### Run some Python code!\n",
    "\n",
    "To run the code below:\n",
    "\n",
    "1. Click on the cell to select it.\n",
    "2. Press `SHIFT+ENTER` on your keyboard or press the play button (<button class='fa fa-play icon-play btn btn-xs btn-default'></button>) in the toolbar above.\n",
    "\n",
    "A full tutorial for using the notebook interface is available [here](ipython_examples/Notebook/Index.ipynb)."
   ]
  },
  {
   "cell_type": "code",
   "execution_count": 15,
   "metadata": {},
   "outputs": [
    {
     "name": "stdout",
     "output_type": "stream",
     "text": [
      "t1:= 2\n",
      "t2:= 0\n",
      "t3:= 4\n",
      "n:= 5\n",
      "2 минута. Первый наркоман заканчивает набирать шприц 'физраствор'.\n",
      "2 минута. Второй наркоман начинает делать инъекцию.\n",
      "2 минута. Первый наркоман начинает набирать шприц 'физраствора'.\n",
      "4 минута. Первый наркоман заканчивает набирать шприц 'физраствора'.\n",
      "6 минута. Второй наркоман заканчивает делать инъекцию.\n",
      "Время одного круга: 6\n",
      "\n",
      "6 минута. Передача шприца 'физраствора'.\n",
      "6 минута. Второй наркоман начинает делать инъекцию.\n",
      "6 минута. Первый наркоман начинает набирать шприц 'физраствора'.\n",
      "8 минута. Первый наркоман заканчивает набирать шприц 'физраствора'.\n",
      "10 минута. Второй наркоман заканчивает делать инъекцию.\n",
      "Время одного круга: 4\n",
      "\n",
      "10 минута. Передача шприца 'физраствора'.\n",
      "10 минута. Второй наркоман начинает делать инъекцию.\n",
      "10 минута. Первый наркоман начинает набирать шприц 'физраствора'.\n",
      "12 минута. Первый наркоман заканчивает набирать шприц 'физраствора'.\n",
      "14 минута. Второй наркоман заканчивает делать инъекцию.\n",
      "Время одного круга: 4\n",
      "\n",
      "14 минута. Передача шприца 'физраствора'.\n",
      "14 минута. Второй наркоман начинает делать инъекцию.\n",
      "14 минута. Первый наркоман начинает набирать шприц 'физраствора'.\n",
      "16 минута. Первый наркоман заканчивает набирать шприц 'физраствора'.\n",
      "18 минута. Второй наркоман заканчивает делать инъекцию.\n",
      "Время одного круга: 4\n",
      "\n",
      "18 минута. Передача шприца 'физраствора'.\n",
      "18 минута. Второй наркоман начинает делать инъекцию.\n",
      "22 минута. Второй наркоман заканчивает делать инъекцию.\n",
      "Время одного круга: 4\n",
      "Cреднее время одного круга:  4.4\n"
     ]
    }
   ],
   "source": [
    "t1= int(input(\"t1:= \"))\n",
    "t2= int(input(\"t2:= \"))\n",
    "t3= int(input(\"t3:= \"))\n",
    "n = int(input(\"n:= \"))\n",
    "time = 0\n",
    "t_l = 0\n",
    "t_r = 0\n",
    "\n",
    "print(time + t1, \"минута. Первый наркоман заканчивает набирать шприц 'физраствор'.\")\n",
    "time += t1\n",
    "print(time + t2, \"минута. Второй наркоман начинает делать инъекцию.\")\n",
    "t_r = t1 + t2\n",
    "time += t2\n",
    "        \n",
    "if (t1 > t3):\n",
    "    for i in range(n-1):\n",
    "        print(time, \"минута. Первый наркоман начинает набирать шприц 'физраствора'.\")\n",
    "        print(time + t3, \"минута. Второй наркоман заканчивает делать инъекцию.\")\n",
    "        t_r += t3\n",
    "        print(\"Время одного круга:\", max(t_r - t_l, t_l))\n",
    "        print()\n",
    "        \n",
    "        print(time + t1, \"минута. Первый наркоман заканчивает набирать шприц 'физраствора'.\")\n",
    "        print(time + t2 + max(t1, t3), \"минута. Второй наркоман начинает делать инъекцию.\")\n",
    "        t_r = max(t1, t3) + t2\n",
    "        t_l = t2 + max(t1, t3)\n",
    "        time += t2 + max(t1, t3)\n",
    "else:    \n",
    "    for i in range(n-1):\n",
    "        print(time, \"минута. Первый наркоман начинает набирать шприц 'физраствора'.\")\n",
    "        print(time + t1, \"минута. Первый наркоман заканчивает набирать шприц 'физраствора'.\")\n",
    "        print(time + t3, \"минута. Второй наркоман заканчивает делать инъекцию.\")\n",
    "        t_r += t3\n",
    "        print(\"Время одного круга:\", max(t_r - t_l, t_l))\n",
    "        print()\n",
    "        \n",
    "        print(time + max(t1, t3), \"минута. Передача шприца 'физраствора'.\")\n",
    "        print(time + t2 + max(t1, t3), \"минута. Второй наркоман начинает делать инъекцию.\")\n",
    "        t_r = max(t1, t3) + t2\n",
    "        t_l = t2 + max(t1, t3)\n",
    "        time += t2 + max(t1, t3)\n",
    "   \n",
    "        \n",
    "print(time + t3, \"минута. Второй наркоман заканчивает делать инъекцию.\")\n",
    "t_r += t3\n",
    "print(\"Время одного круга:\", max(t_r - t_l, t_l))\n",
    "print(\"Cреднее время одного круга: \", (time + t3)  / n)"
   ]
  },
  {
   "cell_type": "markdown",
   "metadata": {},
   "source": [
    "Feel free to open new cells using the plus button (<button class='fa fa-plus icon-plus btn btn-xs btn-default'></button>), or hitting shift-enter while this cell is selected.\n",
    "\n",
    "Behind the scenes, the software that powers this is [tmpnb](https://github.com/jupyter/tmpnb), a  Tornado application that spawns [pre-built Docker containers](https://github.com/ipython/docker-notebook) and then uses the [jupyter/configurable-http-proxy](https://github.com/jupyter/configurable-http-proxy) to put your notebook server on a unique path."
   ]
  },
  {
   "cell_type": "code",
   "execution_count": null,
   "metadata": {},
   "outputs": [],
   "source": []
  }
 ],
 "metadata": {
  "kernelspec": {
   "display_name": "Python 3",
   "language": "python",
   "name": "python3"
  },
  "language_info": {
   "codemirror_mode": {
    "name": "ipython",
    "version": 3
   },
   "file_extension": ".py",
   "mimetype": "text/x-python",
   "name": "python",
   "nbconvert_exporter": "python",
   "pygments_lexer": "ipython3",
   "version": "3.6.2"
  }
 },
 "nbformat": 4,
 "nbformat_minor": 1
}
